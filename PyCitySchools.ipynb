{
 "cells": [
  {
   "cell_type": "code",
   "execution_count": null,
   "metadata": {},
   "outputs": [],
   "source": [
    "import pandas as pd"
   ]
  },
  {
   "cell_type": "code",
   "execution_count": null,
   "metadata": {
    "scrolled": true
   },
   "outputs": [],
   "source": [
    "#name paths for reference files\n",
    "#final ------------------------\n",
    "schools_file = \"Resources/schools_complete.csv\"\n",
    "students_file = \"Resources/students_complete.csv\"\n",
    "school_data = pd.read_csv(schools_file)\n",
    "student_data = pd.read_csv(students_file)\n",
    "school_data_complete = pd.merge(student_data, school_data, how=\"left\", on=[\"school_name\", \"school_name\"])\n",
    "\n",
    "#for testing only\n",
    "school_data_complete.head()"
   ]
  },
  {
   "cell_type": "code",
   "execution_count": null,
   "metadata": {
    "tags": []
   },
   "outputs": [],
   "source": [
    "#final-----------------------------\n",
    "district_summary = pd.DataFrame({\n",
    "    'Total Schools': [len(school_data_complete[\"school_name\"].unique())],\n",
    "    'Total Students': [school_data_complete[\"student_name\"].count()],\n",
    "    'Total Budget': [school_data_complete.budget.unique().sum()],\n",
    "    'Average Math Score': [school_data_complete[\"math_score\"].sum()/school_data_complete[\"math_score\"].count()],\n",
    "    'Average Reading Score': [school_data_complete[\"reading_score\"].sum()/school_data_complete[\"reading_score\"].count()],\n",
    "    '% Passing Math': [len(school_data_complete[school_data_complete['math_score'] >= 70])/school_data_complete[\"student_name\"].count()*100],\n",
    "    '% Passing Reading': [len(school_data_complete[school_data_complete['reading_score'] >= 70])/school_data_complete[\"student_name\"].count()*100],\n",
    "    '% Overall Passing': [len(school_data_complete[(school_data_complete['math_score'] >= 70) & (school_data_complete['reading_score'] >= 70)])/school_data_complete[\"student_name\"].count()*100]\n",
    "})\n",
    "district_summary"
   ]
  },
  {
   "cell_type": "code",
   "execution_count": 67,
   "metadata": {},
   "outputs": [
    {
     "name": "stdout",
     "output_type": "stream",
     "text": [
      "school_name            type    \n",
      "Bailey High School     District    3124928.0\n",
      "Cabrera High School    Charter     1081356.0\n",
      "Figueroa High School   District    1884411.0\n",
      "Ford High School       District    1763916.0\n",
      "Griffin High School    Charter      917500.0\n",
      "Hernandez High School  District    3022020.0\n",
      "Holden High School     Charter      248087.0\n",
      "Huang High School      District    1910635.0\n",
      "Johnson High School    District    3094650.0\n",
      "Pena High School       Charter      585858.0\n",
      "Rodriguez High School  District    2547363.0\n",
      "Shelton High School    Charter     1056600.0\n",
      "Thomas High School     Charter     1043130.0\n",
      "Wilson High School     Charter     1319574.0\n",
      "Wright High School     Charter     1049400.0\n",
      "Name: budget, dtype: float64\n"
     ]
    }
   ],
   "source": [
    "student_count = school_data_complete.groupby(['school_name', 'type']).student_name.count()\n",
    "total_school_budget = (school_data_complete.groupby(['school_name', 'type']).budget.sum()\n",
    "                      /school_data_complete.groupby(['school_name', 'type']).budget.count()\n",
    "                     )\n",
    "per_student_budget = (school_data_complete.groupby(['school_name', 'type']).budget.sum()\n",
    "                      /school_data_complete.groupby(['school_name', 'type']).budget.count()\n",
    "                     )/school_data_complete.groupby(['school_name', 'type']).student_name.count()\n",
    "average_math_score = school_data_complete.groupby(['school_name', 'type']).math_score.mean()\n",
    "average_reading_score = school_data_complete.groupby(['school_name', 'type']).reading_score.mean()\n",
    "passing_math = school_data_complete[['student_name', 'school_name']][school_data_complete['math_score'] >= 70].groupby('school_name').count()\n",
    "\n",
    "print(total_school_budget)"
   ]
  },
  {
   "cell_type": "code",
   "execution_count": null,
   "metadata": {
    "tags": []
   },
   "outputs": [],
   "source": [
    "school_summary = school_data_complete.groupby(['school_name', 'type']).agg(\n",
    "    Total_Students=('student_name', 'count'),\n",
    "    Budget = ('budget', 'sum'),\n",
    "    Average_Math_Score=('math_score', 'mean'),\n",
    "    Average_Reading_Score=('reading_score', 'mean') \n",
    "    \n",
    ")\n",
    "\n",
    "school_summary['Total Budget'] =  school_summary['Budget']/school_summary['Total_Students']\n",
    "school_summary['Per Student Budget'] = school_summary['Total Budget']/school_summary['Total_Students']\n",
    "school_summary['passing_math'] =school_data_complete[['student_name', 'school_name']][school_data_complete['math_score'] >= 70].groupby('school_name').count()\n",
    "school_summary['passing_reading'] =school_data_complete[['student_name', 'school_name']][school_data_complete['reading_score'] >= 70].groupby('school_name').count()\n",
    "\n",
    "school_summary.head()"
   ]
  },
  {
   "cell_type": "code",
   "execution_count": null,
   "metadata": {},
   "outputs": [],
   "source": [
    "student_summary = school_data_complete[['school_name', 'type', 'student_name']].groupby(['school_name', 'type']).count()\n",
    "budget_summary = school_data_complete[['school_name', 'type', 'budget']].groupby(['school_name', 'type']).sum()\n",
    "combined = pd.merge(student_summary, budget_summary, on='school_name')\n",
    "combined.head()"
   ]
  },
  {
   "cell_type": "code",
   "execution_count": null,
   "metadata": {},
   "outputs": [],
   "source": []
  },
  {
   "cell_type": "code",
   "execution_count": null,
   "metadata": {},
   "outputs": [],
   "source": []
  },
  {
   "cell_type": "code",
   "execution_count": null,
   "metadata": {},
   "outputs": [],
   "source": []
  }
 ],
 "metadata": {
  "kernelspec": {
   "display_name": "Python 3",
   "language": "python",
   "name": "python3"
  },
  "language_info": {
   "codemirror_mode": {
    "name": "ipython",
    "version": 3
   },
   "file_extension": ".py",
   "mimetype": "text/x-python",
   "name": "python",
   "nbconvert_exporter": "python",
   "pygments_lexer": "ipython3",
   "version": "3.7.6"
  }
 },
 "nbformat": 4,
 "nbformat_minor": 4
}
